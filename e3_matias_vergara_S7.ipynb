{
  "nbformat": 4,
  "nbformat_minor": 0,
  "metadata": {
    "colab": {
      "provenance": [],
      "authorship_tag": "ABX9TyOVeSBZJW/zLPwPKGSqpOI0",
      "include_colab_link": true
    },
    "kernelspec": {
      "name": "python3",
      "display_name": "Python 3"
    },
    "language_info": {
      "name": "python"
    }
  },
  "cells": [
    {
      "cell_type": "markdown",
      "metadata": {
        "id": "view-in-github",
        "colab_type": "text"
      },
      "source": [
        "<a href=\"https://colab.research.google.com/github/CloudZayth/e3_matias_vergara_S7/blob/main/e3_matias_vergara_S7.ipynb\" target=\"_parent\"><img src=\"https://colab.research.google.com/assets/colab-badge.svg\" alt=\"Open In Colab\"/></a>"
      ]
    },
    {
      "cell_type": "code",
      "source": [
        "import numpy as np\n",
        "matriz = np.random.randint(0,7,[3,3])\n",
        "print(\"Juguemos un juego.\\nIngresa números a una matriz 3x3, donde su sumatoria sea 21.\\n\")\n",
        "for i in range(3):\n",
        "  for j in range(3):\n",
        "    z = input(f\"Ingresa un numero para la posicion [{i},{j}]:\\t\")\n",
        "    matriz[i,j] = z\n",
        "print(\"\\n\",matriz,\"\\n\")\n",
        "print(\"La sumatoria de la matriz que creaste es:\\t\",matriz.sum())\n",
        "while matriz.sum() != 21:\n",
        "  print(\"Los números que has ingresado a la matriz no suman 21, intentalo nuevamente.\\n\")\n",
        "  for i in range(3):\n",
        "    for j in range(3):\n",
        "      z = input(f\"Ingresa un numero para la posicion [{i},{j}]:\\t\")\n",
        "      matriz[i,j] = z\n",
        "  print(\"\\n\",matriz,\"\\n\")\n",
        "  print(\"La sumatoria de la matriz que creaste es:\\t\",matriz.sum())\n",
        "print(\"Lo lograste, bien hecho. :D\")\n"
      ],
      "metadata": {
        "id": "TrwzUpDgfyVu"
      },
      "execution_count": null,
      "outputs": []
    }
  ]
}